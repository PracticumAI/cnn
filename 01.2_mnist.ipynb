{
 "cells": [
  {
   "cell_type": "markdown",
   "metadata": {},
   "source": [
    "![Practicum AI Logo image](https://github.com/PracticumAI/practicumai.github.io/blob/main/images/logo/PracticumAI_logo_250x50.png?raw=true)\n",
    "***\n",
    "# *Practicum AI:* MNIST\n",
    "\n",
    "This exercise adapted from Baig et al. (2020) <i>The Deep Learning Workshop</i> from <a href=\"https://www.packtpub.com/product/the-deep-learning-workshop/9781839219856\">Packt Publishers</a> (Exercise 3.02, page 123).\n",
    "\n",
    "(20 Minutes)"
   ]
  },
  {
   "cell_type": "markdown",
   "metadata": {},
   "source": [
    "#### Video Resources\n",
    "- [Andrew Ng Stride Video](https://mediasite.video.ufl.edu/Mediasite/Play/98cde43b4e634b1cab8bc556b77846131d)\n",
    "\n",
    "- [Andrew Ng Padding Video](https://mediasite.video.ufl.edu/Mediasite/Play/09c6ef5af6ed4ea79ad6837e0f5680c31d)\n",
    "\n",
    "- [Andrew Ng Pooling Video](https://mediasite.video.ufl.edu/Mediasite/Play/8fe4282e539644ce9863eceefe258b931d)"
   ]
  },
  {
   "cell_type": "markdown",
   "metadata": {},
   "source": [
    "#### 1. Import dataset\n",
    "\n",
    "Import the MNIST data set.\n",
    "\n",
    "```python\n",
    "import tensorflow.keras.datasets.mnist as mnist\n",
    "```"
   ]
  },
  {
   "cell_type": "code",
   "execution_count": null,
   "metadata": {},
   "outputs": [],
   "source": [
    "# Code it!"
   ]
  },
  {
   "cell_type": "markdown",
   "metadata": {},
   "source": [
    "#### 2. Load MNIST data\n",
    "\n",
    "```python\n",
    "(features_train, label_train), (features_test, label_test) = mnist.load_data()\n",
    "```"
   ]
  },
  {
   "cell_type": "code",
   "execution_count": 2,
   "metadata": {},
   "outputs": [],
   "source": [
    "# Code it!"
   ]
  },
  {
   "cell_type": "markdown",
   "metadata": {},
   "source": [
    "#### 3. Examine label_train\n",
    "\n",
    "```python\n",
    "label_train\n",
    "```"
   ]
  },
  {
   "cell_type": "code",
   "execution_count": 1,
   "metadata": {},
   "outputs": [],
   "source": [
    "# Code it!"
   ]
  },
  {
   "cell_type": "markdown",
   "metadata": {},
   "source": [
    "#### 4. Examine the training dataset\n",
    "\n",
    "Our training dataset has 60000  28 x 28 pixel images.\n",
    "\n",
    "```python\n",
    "features_train.shape\n",
    "```"
   ]
  },
  {
   "cell_type": "code",
   "execution_count": 2,
   "metadata": {},
   "outputs": [],
   "source": [
    "# Code it!"
   ]
  },
  {
   "cell_type": "markdown",
   "metadata": {},
   "source": [
    "#### 5. Examine the test dataset\n",
    "\n",
    "Our test dataset has 10000  28 x 28 pixel images.\n",
    "\n",
    "```python\n",
    "features_test.shape\n",
    "```"
   ]
  },
  {
   "cell_type": "code",
   "execution_count": 3,
   "metadata": {},
   "outputs": [],
   "source": [
    "# Code it!"
   ]
  },
  {
   "cell_type": "markdown",
   "metadata": {},
   "source": [
    "#### 6. Reshape the training and test datasets\n",
    "\n",
    "```python\n",
    "features_train = features_train.reshape(60000, 28, 28, 1)\n",
    "features_test = features_test.reshape(10000, 28, 28, 1)\n",
    "```"
   ]
  },
  {
   "cell_type": "code",
   "execution_count": 4,
   "metadata": {},
   "outputs": [],
   "source": [
    "# Code it!"
   ]
  },
  {
   "cell_type": "markdown",
   "metadata": {},
   "source": [
    "#### 7. Standardize test and train features\n",
    "\n",
    "```python\n",
    "features_train = features_train / 255.0\n",
    "features_test = features_test / 255.0\n",
    "```"
   ]
  },
  {
   "cell_type": "code",
   "execution_count": 5,
   "metadata": {},
   "outputs": [],
   "source": [
    "# Code it!"
   ]
  },
  {
   "cell_type": "markdown",
   "metadata": {},
   "source": [
    "#### 8. Import additional libraries"
   ]
  },
  {
   "cell_type": "code",
   "execution_count": 8,
   "metadata": {},
   "outputs": [],
   "source": [
    "import numpy as np\n",
    "import tensorflow as tf\n",
    "from tensorflow.keras import layers"
   ]
  },
  {
   "cell_type": "markdown",
   "metadata": {},
   "source": [
    "#### 9. Set seeds to ensure reproducibility\n",
    "\n",
    "```python\n",
    "np.random.seed(8)\n",
    "tf.random.set_seed(8)\n",
    "```"
   ]
  },
  {
   "cell_type": "code",
   "execution_count": 6,
   "metadata": {},
   "outputs": [],
   "source": [
    "# Code it!"
   ]
  },
  {
   "cell_type": "markdown",
   "metadata": {},
   "source": [
    "#### 10. Instantiate a Keras sequential model\n",
    "\n",
    "```python\n",
    "model = tf.keras.Sequential()\n",
    "```"
   ]
  },
  {
   "cell_type": "code",
   "execution_count": 7,
   "metadata": {},
   "outputs": [],
   "source": [
    "# Code it!"
   ]
  },
  {
   "cell_type": "markdown",
   "metadata": {},
   "source": [
    "#### 11. Instantiate the 1st convolutional layer\n",
    "\n",
    "This layer contains 64 kernels of shape (3,3).  The activation function is *relu* with incoming data of shape (28, 28, 1).\n",
    "\n",
    "```python\n",
    "conv_layer1 = layers.Conv2D(64, (3,3), activation='relu', input_shape=(28, 28, 1))\n",
    "```"
   ]
  },
  {
   "cell_type": "code",
   "execution_count": 1,
   "metadata": {},
   "outputs": [],
   "source": [
    "# Code it!"
   ]
  },
  {
   "cell_type": "markdown",
   "metadata": {},
   "source": [
    "#### 12. Instantiate the 2nd convolutional layer\n",
    "\n",
    "This layer contains 64 kernels of shape (3,3), using *relu* as the activation function.\n",
    "\n",
    "```python\n",
    "conv_layer2 = layers.Conv2D(64, (3,3), activation='relu')\n",
    "```"
   ]
  },
  {
   "cell_type": "code",
   "execution_count": 9,
   "metadata": {},
   "outputs": [],
   "source": [
    "# Code it!"
   ]
  },
  {
   "cell_type": "markdown",
   "metadata": {},
   "source": [
    "#### 13. Instantiate a dense layer\n",
    "\n",
    "This layer contains 128 neurons, using *relu* as the activation function.\n",
    "\n",
    "```python\n",
    "fc_layer1 = layers.Dense(128, activation='relu')\n",
    "```"
   ]
  },
  {
   "cell_type": "code",
   "execution_count": 10,
   "metadata": {},
   "outputs": [],
   "source": [
    "# Code it!"
   ]
  },
  {
   "cell_type": "markdown",
   "metadata": {},
   "source": [
    "#### 14. Instantiate a dense layer\n",
    "\n",
    "This layer contains 10 neurons, using *relu* as the activation function.\n",
    "\n",
    "```python\n",
    "fc_layer2 = layers.Dense(10, activation='softmax')\n",
    "```"
   ]
  },
  {
   "cell_type": "code",
   "execution_count": 11,
   "metadata": {},
   "outputs": [],
   "source": [
    "# Code it!"
   ]
  },
  {
   "cell_type": "markdown",
   "metadata": {},
   "source": [
    "#### 15. Add layers to the model\n",
    "\n",
    "Add the four layers that were just defined as well as two max pooling layers and a flatten layer, in the order indicated here.\n",
    "\n",
    "```python\n",
    "model.add(conv_layer1)\n",
    "model.add(layers.MaxPooling2D(2, 2))\n",
    "model.add(conv_layer2)\n",
    "model.add(layers.MaxPooling2D(2, 2))\n",
    "model.add(layers.Flatten())\n",
    "model.add(fc_layer1)\n",
    "model.add(fc_layer2)\n",
    "```"
   ]
  },
  {
   "cell_type": "code",
   "execution_count": 12,
   "metadata": {},
   "outputs": [],
   "source": [
    "# Code it!"
   ]
  },
  {
   "cell_type": "markdown",
   "metadata": {},
   "source": [
    "#### 16. Instantiate an Adam optimizer\n",
    "\n",
    "```python\n",
    "optimizer = tf.keras.optimizers.Adam(0.001)\n",
    "```"
   ]
  },
  {
   "cell_type": "code",
   "execution_count": 13,
   "metadata": {},
   "outputs": [],
   "source": [
    "# Code it!"
   ]
  },
  {
   "cell_type": "markdown",
   "metadata": {},
   "source": [
    "#### 17. Compile the model\n",
    "\n",
    "```python\n",
    "model.compile(loss = 'sparse_categorical_crossentropy', optimizer = optimizer, metrics = ['accuracy'])\n",
    "```"
   ]
  },
  {
   "cell_type": "code",
   "execution_count": 14,
   "metadata": {},
   "outputs": [],
   "source": [
    "# Code it!"
   ]
  },
  {
   "cell_type": "markdown",
   "metadata": {},
   "source": [
    "#### 18. Print a summary of the model\n",
    "\n",
    "```python\n",
    "model.summary()\n",
    "```"
   ]
  },
  {
   "cell_type": "code",
   "execution_count": 15,
   "metadata": {},
   "outputs": [],
   "source": [
    "# Code it!"
   ]
  },
  {
   "cell_type": "markdown",
   "metadata": {},
   "source": [
    "#### 19. Fit (train) the model\n",
    "\n",
    "```python\n",
    "model.fit(features_train, label_train, epochs = 5, validation_split = 0.2, verbose = 2)\n",
    "```"
   ]
  },
  {
   "cell_type": "code",
   "execution_count": 16,
   "metadata": {},
   "outputs": [],
   "source": [
    "# Code it!"
   ]
  },
  {
   "cell_type": "markdown",
   "metadata": {},
   "source": [
    "#### 20. Evaluate the model\n",
    "\n",
    "We achieved an accuracy score of 99.03 % on the test dataset.  This is almost a perfect score.\n",
    "\n",
    "```python\n",
    "model.evaluate(features_test, label_test)\n",
    "```"
   ]
  },
  {
   "cell_type": "code",
   "execution_count": 17,
   "metadata": {},
   "outputs": [],
   "source": [
    "# Code it!"
   ]
  }
 ],
 "metadata": {
  "kernelspec": {
   "display_name": "Python 3 (ipykernel)",
   "language": "python",
   "name": "python3"
  },
  "language_info": {
   "codemirror_mode": {
    "name": "ipython",
    "version": 3
   },
   "file_extension": ".py",
   "mimetype": "text/x-python",
   "name": "python",
   "nbconvert_exporter": "python",
   "pygments_lexer": "ipython3",
   "version": "3.8.1"
  }
 },
 "nbformat": 4,
 "nbformat_minor": 4
}
