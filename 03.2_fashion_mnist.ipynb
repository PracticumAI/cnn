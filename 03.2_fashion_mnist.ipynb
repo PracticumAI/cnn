{
 "cells": [
  {
   "cell_type": "markdown",
   "metadata": {},
   "source": [
    "![Practicum AI Logo image](images/practicum_ai_logo.png)\n",
    "***\n",
    "# *Practicum AI:* CNN - Fashion MNIST\n",
    "\n",
    "This exercise adapted from Baig et al. (2020) <i>The Deep Learning Workshop</i> from <a href=\"https://www.packtpub.com/product/the-deep-learning-workshop/9781839219856\">Packt Publishers</a> (Exercise 3.04, page 144)."
   ]
  },
  {
   "cell_type": "markdown",
   "metadata": {},
   "source": [
    "#### Introduction\n",
    "\n",
    "In an earlier exercise, you created a neural network to classify MNIST digits.  The MNIST fashion dataset is similar except it features small (28x28 pixel) images of fashion items.  There are ten classes of item in this dataset.\n",
    "\n",
    "<div style=\"padding: 10px;margin-bottom: 20px;border: thin solid #E5C250;border-left-width: 10px;background-color: #fff\"><strong>Tip:</strong> This exercise is almost identical to the 03.1_augmentation exercise. So, you may want to compare and contrast the two. </div>"
   ]
  },
  {
   "cell_type": "markdown",
   "metadata": {},
   "source": [
    "#### 1. Import packages\n",
    "\n",
    "This dataset, like the MNIST digits data, is integrated into Keras."
   ]
  },
  {
   "cell_type": "code",
   "execution_count": null,
   "metadata": {},
   "outputs": [],
   "source": [
    "import numpy as np\n",
    "import tensorflow as tf\n",
    "\n",
    "from tensorflow.keras import layers\n",
    "from tensorflow.keras.preprocessing.image import ImageDataGenerator\n",
    "from tensorflow.keras.datasets import fashion_mnist"
   ]
  },
  {
   "cell_type": "markdown",
   "metadata": {},
   "source": [
    "#### 2. Load the dataset\n",
    "\n",
    "```python\n",
    "(features_train, label_train), (features_test, label_test) = fashion_mnist.load_data()\n",
    "```"
   ]
  },
  {
   "cell_type": "code",
   "execution_count": null,
   "metadata": {},
   "outputs": [],
   "source": [
    "# Code it!"
   ]
  },
  {
   "cell_type": "markdown",
   "metadata": {},
   "source": [
    "#### 3. Examine the train and test dataset features\n",
    "\n",
    "```python\n",
    "features_train.shape\n",
    "features_test.shape\n",
    "```"
   ]
  },
  {
   "cell_type": "code",
   "execution_count": null,
   "metadata": {},
   "outputs": [],
   "source": [
    "# Code it!"
   ]
  },
  {
   "cell_type": "code",
   "execution_count": null,
   "metadata": {},
   "outputs": [],
   "source": [
    "# Code it!"
   ]
  },
  {
   "cell_type": "markdown",
   "metadata": {},
   "source": [
    "#### 4. Reshape the train and test datasets\n",
    "\n",
    "```python\n",
    "features_train = features_train.reshape(60000, 28, 28, 1)\n",
    "features_test  = features_test.reshape(10000, 28, 28, 1)\n",
    "```"
   ]
  },
  {
   "cell_type": "code",
   "execution_count": null,
   "metadata": {},
   "outputs": [],
   "source": [
    "# Code it!"
   ]
  },
  {
   "cell_type": "markdown",
   "metadata": {},
   "source": [
    "#### 5. Create parameter variables\n",
    "\n",
    "```python\n",
    "batch_size = 16\n",
    "img_height = 28\n",
    "img_width  = 28\n",
    "```"
   ]
  },
  {
   "cell_type": "code",
   "execution_count": 1,
   "metadata": {},
   "outputs": [],
   "source": [
    "# Code it!"
   ]
  },
  {
   "cell_type": "markdown",
   "metadata": {},
   "source": [
    "#### 6. Instantiate a training data generator\n",
    "\n",
    "```python\n",
    "train_img_gen = ImageDataGenerator(rescale = 1./255, \n",
    "                                   rotation_range = 40, \n",
    "                                   width_shift_range = 0.1, \n",
    "                                   height_shift_range = 0.1, \n",
    "                                   shear_range = 0.2, \n",
    "                                   zoom_range = 0.2, \n",
    "                                   horizontal_flip = True, \n",
    "                                   fill_mode = 'nearest')\n",
    "```"
   ]
  },
  {
   "cell_type": "code",
   "execution_count": null,
   "metadata": {},
   "outputs": [],
   "source": [
    "# Code it!"
   ]
  },
  {
   "cell_type": "markdown",
   "metadata": {},
   "source": [
    "#### 7. Instantiate a validation data generator\n",
    "\n",
    "```python\n",
    "val_img_gen = ImageDataGenerator(rescale = 1./255)\n",
    "```"
   ]
  },
  {
   "cell_type": "code",
   "execution_count": null,
   "metadata": {},
   "outputs": [],
   "source": [
    "# Code it!"
   ]
  },
  {
   "cell_type": "markdown",
   "metadata": {},
   "source": [
    "#### 8. Generate data for the training dataset with the train_img_gen.flow() method\n",
    "\n",
    "```python\n",
    "train_data_gen = train_img_gen.flow(features_train, label_train, batch_size = batch_size)\n",
    "```"
   ]
  },
  {
   "cell_type": "code",
   "execution_count": null,
   "metadata": {},
   "outputs": [],
   "source": [
    "# Code it!"
   ]
  },
  {
   "cell_type": "markdown",
   "metadata": {},
   "source": [
    "#### 9. Generate data for the validation dataset with the val_img_gen.flow() method\n",
    "\n",
    "```python\n",
    "val_data_gen = val_img_gen.flow(features_test, label_test, batch_size = batch_size)\n",
    "```"
   ]
  },
  {
   "cell_type": "code",
   "execution_count": null,
   "metadata": {},
   "outputs": [],
   "source": [
    "# Code it!"
   ]
  },
  {
   "cell_type": "markdown",
   "metadata": {},
   "source": [
    "#### 10. Set a random seed for reproducibility\n",
    "\n",
    "```python\n",
    "np.random.seed(8)\n",
    "tf.random.set_seed(8)\n",
    "```"
   ]
  },
  {
   "cell_type": "code",
   "execution_count": null,
   "metadata": {},
   "outputs": [],
   "source": [
    "# Code it!"
   ]
  },
  {
   "cell_type": "markdown",
   "metadata": {},
   "source": [
    "#### 11. Define the model\n",
    "\n",
    "```python\n",
    "model = tf.keras.Sequential([\n",
    "    layers.Conv2D(64, 3, activation = 'relu', input_shape = (img_height, img_width ,1)),\n",
    "    layers.MaxPooling2D(),\n",
    "    layers.Conv2D(128, 3, activation = 'relu'),\n",
    "    layers.MaxPooling2D(),\n",
    "    layers.Flatten(),\n",
    "    layers.Dense(128, activation = 'relu'),\n",
    "    layers.Dense(10, activation  = 'softmax')\n",
    "])\n",
    "```"
   ]
  },
  {
   "cell_type": "code",
   "execution_count": null,
   "metadata": {},
   "outputs": [],
   "source": [
    "# Code it!"
   ]
  },
  {
   "cell_type": "markdown",
   "metadata": {},
   "source": [
    "#### 12. Instantiate an Adam optimizer\n",
    "\n",
    "```python\n",
    "optimizer = tf.keras.optimizers.Adam(0.001)\n",
    "```"
   ]
  },
  {
   "cell_type": "code",
   "execution_count": null,
   "metadata": {},
   "outputs": [],
   "source": [
    "# Code it!"
   ]
  },
  {
   "cell_type": "markdown",
   "metadata": {},
   "source": [
    "#### 13. Compile the neural network\n",
    "\n",
    "```python\n",
    "model.compile(loss      = 'sparse_categorical_crossentropy', \n",
    "              optimizer = optimizer, \n",
    "              metrics   = ['accuracy'])\n",
    "```"
   ]
  },
  {
   "cell_type": "code",
   "execution_count": null,
   "metadata": {},
   "outputs": [],
   "source": [
    "# Code it!"
   ]
  },
  {
   "cell_type": "markdown",
   "metadata": {},
   "source": [
    "#### 14. Fit (train) the model\n",
    "\n",
    "```python\n",
    "model.fit(train_data_gen,\n",
    "          steps_per_epoch  = len(features_train) // batch_size,\n",
    "          epochs           = 5,\n",
    "          validation_data  = val_data_gen,\n",
    "          validation_steps = len(features_test) // batch_size)\n",
    "```"
   ]
  },
  {
   "cell_type": "code",
   "execution_count": null,
   "metadata": {},
   "outputs": [],
   "source": [
    "# Code it!"
   ]
  }
 ],
 "metadata": {
  "kernelspec": {
   "display_name": "Tensorflow-2.7.0",
   "language": "python",
   "name": "tensorflow-2.7.0"
  },
  "language_info": {
   "codemirror_mode": {
    "name": "ipython",
    "version": 3
   },
   "file_extension": ".py",
   "mimetype": "text/x-python",
   "name": "python",
   "nbconvert_exporter": "python",
   "pygments_lexer": "ipython3",
   "version": "3.9.12"
  }
 },
 "nbformat": 4,
 "nbformat_minor": 4
}
